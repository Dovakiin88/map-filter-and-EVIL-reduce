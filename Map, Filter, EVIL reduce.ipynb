{
 "cells": [
  {
   "cell_type": "code",
   "execution_count": 1,
   "metadata": {},
   "outputs": [
    {
     "name": "stdout",
     "output_type": "stream",
     "text": [
      "['Argentina', 'San Diego', 'Boston', 'New York']\n",
      "['Gary A.J. Bernstein', 'Joel Carter', 'Andrew P. Garfield', 'Victor aNisimov', 'David hassELHOFF']\n",
      "Nashua 89.6\n",
      "Boston 53.6\n",
      "Los Angelos 111.2\n",
      "Miami 84.2\n",
      "[('Nashua', 89.6), ('Boston', 53.6), ('Los Angelos', 111.2), ('Miami', 84.2)]\n",
      "[0, 1, 1, 2, 3, 5, 8, 13, 21, 34]\n"
     ]
    }
   ],
   "source": [
    "from functools import reduce\n",
    "\n",
    "# Question 1\n",
    "places = [\" \",\"Argentina\", \" \", \"San Diego\",\"\",\"  \",\"\",\"Boston\",\"New York\"]\n",
    "\n",
    "y = filter(lambda x: x != \" \" and x != \"\" and x != \"  \", places)\n",
    "print(list(y))\n",
    "\n",
    "\n",
    "# Question 2\n",
    "author = [\"Joel Carter\", \"Victor aNisimov\", \"Andrew P. Garfield\",\"David hassELHOFF\",\"Gary A.J. Bernstein\"]\n",
    "\n",
    "author.sort(key=lambda x: x.split()[-1])\n",
    "print(author)\n",
    "\n",
    "\n",
    "# Question 3\n",
    "placesx = [('Nashua',32),(\"Boston\",12),(\"Los Angelos\",44),(\"Miami\",29)]\n",
    "\n",
    "for x in placesx:\n",
    "    f = (9/5)*x[1]+32\n",
    "    print(x[0], f)\n",
    "\n",
    "temp_f = lambda temp: (temp[0], (9/5) * temp[1]+32)\n",
    "\n",
    "print(list(map(temp_f, placesx)))\n",
    "\n",
    "\n",
    "\n",
    "# Question 4\n",
    "\n",
    "#wy = [0,1]\n",
    "#print(type(wy[-2]))\n",
    "\n",
    "def fib(r):\n",
    "    why = [0, 1]\n",
    "\n",
    "    for i in range(2, r):\n",
    "        why += (reduce(lambda x, y: x + y, why[-2:]), )\n",
    "    return why\n",
    "\n",
    "\n",
    "print(fib(10))"
   ]
  },
  {
   "cell_type": "code",
   "execution_count": null,
   "metadata": {},
   "outputs": [],
   "source": []
  }
 ],
 "metadata": {
  "kernelspec": {
   "display_name": "Python 3",
   "language": "python",
   "name": "python3"
  },
  "language_info": {
   "codemirror_mode": {
    "name": "ipython",
    "version": 3
   },
   "file_extension": ".py",
   "mimetype": "text/x-python",
   "name": "python",
   "nbconvert_exporter": "python",
   "pygments_lexer": "ipython3",
   "version": "3.8.5"
  }
 },
 "nbformat": 4,
 "nbformat_minor": 4
}
